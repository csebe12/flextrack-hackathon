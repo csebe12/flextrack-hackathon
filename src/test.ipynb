{
 "cells": [
  {
   "cell_type": "code",
   "execution_count": null,
   "id": "4b4524a3",
   "metadata": {},
   "outputs": [],
   "source": [
    "import pandas as pd \n",
    "import numpy as np \n",
    "from pathlib import Path\n",
    "import plotly.graph_objects as go\n",
    "import plotly.express as px\n",
    "from plotly.subplots import make_subplots\n",
    "from statsmodels.tsa.stattools import adfuller\n",
    "from statsmodels.graphics.tsaplots import plot_acf, plot_pacf\n",
    "import matplotlib.pyplot as plt\n",
    "from statsmodels.tsa.seasonal import STL\n",
    "from sklearn.preprocessing import SplineTransformer, MinMaxScaler, OneHotEncoder\n",
    "from sklearn.compose import ColumnTransformer\n",
    "from sklearn.pipeline import make_pipeline\n",
    "import holidays\n",
    "\n",
    "from xgboost import XGBRegressor\n",
    "import lightgbm as lgb\n",
    "from sklearn.model_selection import TimeSeriesSplit, GridSearchCV\n",
    "from mlforecast import MLForecast\n",
    "from sklearn.metrics import mean_absolute_error, mean_absolute_percentage_error, mean_squared_error"
   ]
  },
  {
   "cell_type": "markdown",
   "id": "e69e8714",
   "metadata": {},
   "source": [
    "# Data analysis"
   ]
  },
  {
   "cell_type": "code",
   "execution_count": null,
   "id": "937ed51b",
   "metadata": {},
   "outputs": [],
   "source": [
    "prediction_data = pd.read_parquet(Path.cwd().parent.joinpath(\"data\", \"public_test_data.parquet\"))\n",
    "prediction_data = prediction_data.set_index(\"Timestamp_Local\")\n",
    "prediction_data = prediction_data.sort_values([\"Site\", \"Timestamp_Local\"])"
   ]
  },
  {
   "cell_type": "code",
   "execution_count": null,
   "id": "b4f84099",
   "metadata": {},
   "outputs": [],
   "source": [
    "prediction_data.info()"
   ]
  },
  {
   "cell_type": "code",
   "execution_count": null,
   "id": "fae52abe",
   "metadata": {},
   "outputs": [],
   "source": [
    "training_data = pd.read_parquet(Path.cwd().parent.joinpath(\"data\", \"training_data.parquet\"))\n",
    "training_data = training_data.set_index(\"Timestamp_Local\")\n",
    "training_data = training_data.sort_values([\"Site\", \"Timestamp_Local\"])\n",
    "# Add ground truth baseline power\n",
    "training_data['Baseline_Power_kW'] = training_data['Building_Power_kW'] - training_data['Demand_Response_Capacity_kW']\n",
    "\n",
    "original_cols = [\n",
    "    \"Site\",\n",
    "    \"Building_Power_kW\",\n",
    "    \"Demand_Response_Capacity_kW\",\n",
    "    \"Demand_Response_Flag\",\n",
    "    \"Dry_Bulb_Temperature_C\",\n",
    "    \"Global_Horizontal_Radiation_W/m2\",\n",
    "]"
   ]
  },
  {
   "cell_type": "code",
   "execution_count": null,
   "id": "762cc034",
   "metadata": {},
   "outputs": [],
   "source": [
    "training_data.info()"
   ]
  },
  {
   "cell_type": "markdown",
   "id": "0586cefe",
   "metadata": {},
   "source": [
    "## Raw data"
   ]
  },
  {
   "cell_type": "code",
   "execution_count": null,
   "id": "4c03a80c",
   "metadata": {},
   "outputs": [],
   "source": [
    "# for site, site_data in training_data.groupby(\"Site\"):\n",
    "#     data_cols = (\n",
    "#             \"Building_Power_kW\",\n",
    "#             \"Demand_Response_Capacity_kW\",\n",
    "#             \"Demand_Response_Flag\",\n",
    "#             \"Dry_Bulb_Temperature_C\",\n",
    "#             \"Global_Horizontal_Radiation_W/m2\",\n",
    "#     )\n",
    "#     fig = make_subplots(\n",
    "#         rows=5,\n",
    "#         cols=1,\n",
    "#         shared_xaxes=True,\n",
    "#         vertical_spacing=0.02\n",
    "#     )\n",
    "#     for row, col in enumerate(data_cols, start=1):\n",
    "#         fig.add_trace(\n",
    "#             go.Scatter(\n",
    "#                 x=site_data.index,\n",
    "#                 y=site_data[col],\n",
    "#                 name=col,\n",
    "#                 mode=\"lines\",\n",
    "#             ),\n",
    "#             row=row,\n",
    "#             col=1\n",
    "#         )\n",
    "#     fig.update_layout(title_text=f\"Site: {site}\")\n",
    "#     fig.show()"
   ]
  },
  {
   "cell_type": "markdown",
   "id": "bca84763",
   "metadata": {},
   "source": [
    "## Demand reduction response analysis"
   ]
  },
  {
   "cell_type": "markdown",
   "id": "dbc5c99d",
   "metadata": {},
   "source": [
    "There is not always a capacity reduction / increase when the demand response is set.\n",
    "This implies that the building is not always able to deliver flexibility when requested."
   ]
  },
  {
   "cell_type": "code",
   "execution_count": null,
   "id": "0823d525",
   "metadata": {},
   "outputs": [],
   "source": [
    "# # Is there always a demand response when the flag is set?\n",
    "# training_data['Demand_Response_Delivered'] = training_data['Demand_Response_Capacity_kW'].ne(0)\n",
    "# (training_data.groupby(['Site', 'Demand_Response_Flag'])['Demand_Response_Delivered'].sum() / training_data.groupby(['Site', 'Demand_Response_Flag'])['Demand_Response_Delivered'].count()).reset_index()\n",
    "\n",
    "# training_data['Demand_Response_Direction'] = np.where(\n",
    "#     np.sign(training_data['Demand_Response_Capacity_kW']).astype(int) == training_data['Demand_Response_Flag'],\n",
    "#     'Correct response',\n",
    "#     np.where(\n",
    "#         training_data['Demand_Response_Capacity_kW'] == 0,\n",
    "#         'No response',\n",
    "#         'Inverse response'\n",
    "#     )\n",
    "# )\n",
    "# demand_response_performance = (training_data.groupby(['Site', 'Demand_Response_Flag'])['Demand_Response_Direction'].value_counts() / training_data.groupby(['Site', 'Demand_Response_Flag'])['Demand_Response_Direction'].count()).reset_index()\n",
    "# fig = make_subplots(rows=3, cols=1, subplot_titles=demand_response_performance['Site'].unique().tolist(), shared_xaxes=True)\n",
    "# colors = {\n",
    "#     'No response': 'gray',\n",
    "#     'Correct response': '#bdf0a8',\n",
    "#     'Inverse response': '#f09999'\n",
    "# }\n",
    "# for direction, performance in demand_response_performance.groupby('Demand_Response_Direction'):\n",
    "#     first_legend=True\n",
    "#     for row, (site, site_performance) in enumerate(performance.groupby('Site'), start=1):\n",
    "#         fig.add_trace(go.Bar(\n",
    "#             x=site_performance['Demand_Response_Flag'].astype(str),\n",
    "#             y=site_performance[0],\n",
    "#             name=direction,\n",
    "#             legendgroup=direction,\n",
    "#             text=site_performance[0].round(2),\n",
    "#             textposition='auto',\n",
    "#             marker_color=colors.get(direction, 'blue'),\n",
    "#             showlegend=first_legend\n",
    "#         ),\n",
    "#         row=row, col=1)\n",
    "#         first_legend=False\n",
    "# fig.update_layout(\n",
    "#     barmode='stack',\n",
    "#     height=600,\n",
    "# )\n",
    "# fig.show()"
   ]
  },
  {
   "cell_type": "markdown",
   "id": "76adc07e",
   "metadata": {},
   "source": [
    "## Stationarity"
   ]
  },
  {
   "cell_type": "code",
   "execution_count": null,
   "id": "b190a202",
   "metadata": {},
   "outputs": [],
   "source": [
    "# for site, site_data in training_data.groupby(\"Site\"):\n",
    "#     result = adfuller(site_data['Building_Power_kW'])\n",
    "\n",
    "#     print(f'{site=}')\n",
    "#     print(f'\\tADF Statistic: {result[0]:.4f}')\n",
    "#     print(f'\\tp-value: {result[1]:.4f}')\n",
    "#     print('\\tCritical Values:')\n",
    "\n",
    "#     for key, value in result[4].items():\n",
    "#         print(f'\\t\\t{key}: {value:.3f}')\n",
    "    \n",
    "#     if (result[1] <= 0.05) & (result[4]['5%'] > result[0]):\n",
    "#         print(f'\\t\\u001b[32m*** The time series is stationary (reject H0) ✅ ***\\u001b[0m')\n",
    "#     else:\n",
    "#         print(f'\\t\\x1b[31m*** The time series is non-stationary (fail to reject H0) ❌ ***\\x1b[0m')\n",
    "\n",
    "# # Visualizations\n",
    "# plt.rcParams.update({'font.size': 8})\n",
    "# lag_acf = 15\n",
    "# lag_pacf = 15\n",
    "# height = 2\n",
    "# width = 8\n",
    "\n",
    "# for site, site_data in training_data.groupby(\"Site\"):\n",
    "#     print(f'{site=}')\n",
    "#     f, ax = plt.subplots(nrows=2, ncols=1, figsize=(width, 2*height))\n",
    "#     plot_acf(site_data['Building_Power_kW'],lags=lag_acf, ax=ax[0])\n",
    "#     plot_pacf(site_data['Building_Power_kW'],lags=lag_pacf, ax=ax[1], method='ols')\n",
    "\n",
    "#     plt.tight_layout()\n",
    "#     plt.show()\n",
    "\n",
    "# def plot_components(result, site):\n",
    "#     df = pd.concat([result.observed, result.trend, result.seasonal, result.resid], axis=1)\n",
    "#     df = df.rename(columns={0:'Original Data', 'season':'seasonal','observed':'Original Data'})\n",
    "#     components = df.columns\n",
    "#     rows = len(components)\n",
    "#     fig = make_subplots(rows=rows, cols=1, shared_xaxes=True, subplot_titles = [i for i in components])\n",
    "\n",
    "#     # Plot original data\n",
    "#     for i, col in enumerate(components):\n",
    "#         fig.add_trace(go.Scatter(x=df.index, y=df[col], mode='lines', name=col), row=i+1, col=1)\n",
    "\n",
    "#     # Update layout\n",
    "#     fig.update_layout(\n",
    "#         title=f'Time Series Decomposition for {site}',\n",
    "#         xaxis_title='Time',\n",
    "#         height=900\n",
    "#     )\n",
    "\n",
    "#     fig.show()\n",
    "\n",
    "# period = int((60/15)*24*7)\n",
    "# for site, site_data in training_data.groupby(\"Site\"):\n",
    "#     stl = STL(site_data['Building_Power_kW'], period=period)\n",
    "#     result_stl = stl.fit()\n",
    "\n",
    "#     # Plot the results\n",
    "#     plot_components(result_stl, site)"
   ]
  },
  {
   "cell_type": "markdown",
   "id": "af644c50",
   "metadata": {},
   "source": [
    "There is not much seasonality in the training data. For Site A and Site B there is a more distinct turn on and turn off event."
   ]
  },
  {
   "cell_type": "markdown",
   "id": "8fd6b8b3",
   "metadata": {},
   "source": [
    "# Feature engineering"
   ]
  },
  {
   "cell_type": "code",
   "execution_count": null,
   "id": "ca7801aa",
   "metadata": {},
   "outputs": [],
   "source": [
    "def add_datetime_features(data: pd.DataFrame) -> pd.DataFrame:\n",
    "    # 1: summer, 2: autumn, 3: winter, 4: spring\n",
    "    season_lookup = {\n",
    "        1: 1,\n",
    "        2: 1,\n",
    "        3: 2,\n",
    "        4: 2,\n",
    "        5: 2,\n",
    "        6: 3,\n",
    "        7: 3,\n",
    "        8: 3,\n",
    "        9: 4,\n",
    "        10: 4,\n",
    "        11: 4,\n",
    "        12: 1\n",
    "    }\n",
    "\n",
    "    data = data[[c for c in original_cols + ['Baseline_Power_kW'] if c in data.columns]]\n",
    "    data['year'] = data.index.year\n",
    "    data['month'] = data.index.month\n",
    "    data['day'] = data.index.day\n",
    "    data['hour'] = data.index.hour\n",
    "    data['minute'] = data.index.minute\n",
    "    data['day_of_week'] = data.index.dayofweek\n",
    "    data['working_day'] = np.where(data['day_of_week'].isin([0,1,2,3,4]), True, False)\n",
    "    data['holiday'] = data.index.normalize().isin(holidays.country_holidays('AU'))\n",
    "    data['season'] = data['month'].map(season_lookup)\n",
    "    data['working_hour'] = np.where((data['hour'] >= 9) & (data['hour'] <= 17) & (data['working_day']), True, False)\n",
    "\n",
    "    # Circular features\n",
    "    def periodic_spline_transformer(period, n_splines=None, degree=3):\n",
    "        if n_splines is None:\n",
    "            n_splines = period\n",
    "        n_knots = n_splines + 1  # periodic and include_bias is True\n",
    "        return SplineTransformer(\n",
    "            degree=degree,\n",
    "            n_knots=n_knots,\n",
    "            knots=np.linspace(0, period, n_knots).reshape(n_knots, 1),\n",
    "            extrapolation=\"periodic\",\n",
    "            include_bias=True,\n",
    "        )\n",
    "    \n",
    "    return data\n",
    "\n",
    "def add_lag_features(data: pd.DataFrame) -> pd.DataFrame:\n",
    "    data['power_lag_15_min'] = data.groupby('Site')['Building_Power_kW'].shift(1)\n",
    "    data['power_lag_30_min'] = data.groupby('Site')['Building_Power_kW'].shift(2)\n",
    "    data['power_lag_60_min'] = data.groupby('Site')['Building_Power_kW'].shift(4)\n",
    "    data['power_lag_1_day'] = data.groupby('Site')['Building_Power_kW'].shift(96)\n",
    "\n",
    "    return data\n",
    "\n",
    "def add_hvac_flag(data: pd.DataFrame) -> pd.DataFrame:\n",
    "    # HVAC flag\n",
    "    data['HVAC_on'] = data.groupby(['Site', pd.Grouper(freq='1W')])['Building_Power_kW'].transform(\n",
    "        lambda x: x >= 0.5 * x.mean()\n",
    "    )\n",
    "    return data\n",
    "\n",
    "def feature_engineering(data: pd.DataFrame) -> pd.DataFrame:\n",
    "    data = add_datetime_features(data)\n",
    "    data = add_lag_features(data)\n",
    "    data = add_hvac_flag(data)\n",
    "    return data"
   ]
  },
  {
   "cell_type": "markdown",
   "id": "b492a1cb",
   "metadata": {},
   "source": [
    "# Baseline model"
   ]
  },
  {
   "cell_type": "code",
   "execution_count": null,
   "id": "cb5dd3a5",
   "metadata": {},
   "outputs": [],
   "source": [
    "training_data = feature_engineering(training_data)"
   ]
  },
  {
   "cell_type": "code",
   "execution_count": null,
   "id": "823551e3",
   "metadata": {},
   "outputs": [],
   "source": [
    "train_test_split = 0.75\n",
    "test_data = []\n",
    "train_data = []\n",
    "for site, site_data in training_data.groupby(\"Site\"):\n",
    "    complete_site_data = site_data.dropna(how='any')\n",
    "    split_index = int(len(complete_site_data) * train_test_split)\n",
    "    train_data.append(complete_site_data.iloc[:split_index])\n",
    "    test_data.append(complete_site_data.iloc[split_index:])\n",
    "train_data = pd.concat(train_data)\n",
    "test_data = pd.concat(test_data)\n",
    "\n",
    "train_data = train_data[\n",
    "    [c for c in train_data.columns if c not in [\n",
    "            'Demand_Response_Capacity_kW',\n",
    "        ]\n",
    "    ]\n",
    "].reset_index()\n",
    "test_data = test_data[\n",
    "    [c for c in test_data.columns if c not in [\n",
    "            'Demand_Response_Capacity_kW',\n",
    "        ]\n",
    "    ]\n",
    "].reset_index()"
   ]
  },
  {
   "cell_type": "code",
   "execution_count": null,
   "id": "b365d148",
   "metadata": {},
   "outputs": [],
   "source": [
    "# fig = make_subplots(specs=[[{\"secondary_y\": True}], [{\"secondary_y\": True}], [{\"secondary_y\": True}]], rows=3, cols=1, subplot_titles=training_data['Site'].unique().tolist())\n",
    "# for row, (site, site_data) in enumerate(training_data.groupby(\"Site\"), start=1):\n",
    "#     fig.add_trace(go.Scatter(x=site_data.index, y=site_data['Building_Power_kW'], mode='lines', name='Building Power (kW)', line_color=px.colors.qualitative.Plotly[0]), secondary_y=False, row=row, col=1)\n",
    "#     fig.add_trace(go.Scatter(x=site_data.index, y=site_data['HVAC_on'].astype(int), mode='lines', name='HVAC', line_color='gray'), secondary_y=True, row=row, col=1)\n",
    "#     fig.update_yaxes(range=[-0.1, 1.1], secondary_y=True, row=row, col=1)\n",
    "# fig.update_layout(height=900)\n",
    "# fig.show()"
   ]
  },
  {
   "cell_type": "code",
   "execution_count": null,
   "id": "0c58f7a1",
   "metadata": {},
   "outputs": [],
   "source": [
    "def plot_predictions(data, cols):\n",
    "  fig = make_subplots(rows=len(data['Site'].unique()), cols=1, subplot_titles=data['Site'].unique().tolist())\n",
    "\n",
    "  for row, (_, site_data) in enumerate(data.groupby('Site'), start=1):\n",
    "      for i, col in enumerate(cols):\n",
    "        fig.add_trace(go.Scatter(x=site_data['Timestamp_Local'], y=site_data[col], mode='lines', name=col, line_color=px.colors.qualitative.Plotly[i]), row=row, col=1)\n",
    "  fig.update_layout(height=row*300)\n",
    "  fig.show()"
   ]
  },
  {
   "cell_type": "code",
   "execution_count": null,
   "id": "3caffff2",
   "metadata": {},
   "outputs": [],
   "source": [
    "train_data"
   ]
  },
  {
   "cell_type": "code",
   "execution_count": null,
   "id": "df00815e",
   "metadata": {},
   "outputs": [],
   "source": [
    "model = lgb.LGBMRegressor(\n",
    "    random_state=420,\n",
    "    verbose=-1\n",
    ")\n",
    "\n",
    "model.fit(\n",
    "    X=train_data.drop(columns=['Site', 'Timestamp_Local', 'Baseline_Power_kW']), \n",
    "    y=train_data['Baseline_Power_kW']\n",
    ")"
   ]
  },
  {
   "cell_type": "code",
   "execution_count": null,
   "id": "b81a4642",
   "metadata": {},
   "outputs": [],
   "source": []
  },
  {
   "cell_type": "code",
   "execution_count": null,
   "id": "70c24f1a",
   "metadata": {},
   "outputs": [],
   "source": [
    "predicted_data = []\n",
    "for site, site_data in test_data.groupby('Site'):\n",
    "    x = model.predict(site_data.drop(columns=['Site', 'Timestamp_Local', 'Baseline_Power_kW']))\n",
    "    predicted_data.append(pd.DataFrame(data={'prediction' : x, 'Site' : site, 'Timestamp_Local' : site_data['Timestamp_Local']}))\n",
    "predicted_data = pd.concat(predicted_data)\n",
    "predicted_data = predicted_data.set_index(['Site', 'Timestamp_Local'])\n",
    "\n",
    "predicted_data = pd.merge(left=predicted_data, right=test_data.set_index(['Site', 'Timestamp_Local'])[['Baseline_Power_kW']].rename(columns={'Baseline_Power_kW' : 'actual'}), left_index=True, right_index=True)\n",
    "predicted_data = predicted_data.reset_index()"
   ]
  },
  {
   "cell_type": "code",
   "execution_count": null,
   "id": "9e430de3",
   "metadata": {},
   "outputs": [],
   "source": [
    "mae = mean_absolute_error(predicted_data['actual'], predicted_data['prediction'])\n",
    "mape = mean_absolute_percentage_error(predicted_data['actual'], predicted_data['prediction'])\n",
    "\n",
    "print(f'MAE: {mae:,.4f} | MAPE: {mape:.4%}')"
   ]
  },
  {
   "cell_type": "code",
   "execution_count": null,
   "id": "123a9f40",
   "metadata": {},
   "outputs": [],
   "source": [
    "predicted_data"
   ]
  },
  {
   "cell_type": "code",
   "execution_count": null,
   "id": "8cde25ac",
   "metadata": {},
   "outputs": [],
   "source": [
    "plot_predictions(predicted_data, cols=['actual', 'prediction'])"
   ]
  },
  {
   "cell_type": "markdown",
   "id": "7509e3d0",
   "metadata": {},
   "source": [
    "# Prediction"
   ]
  },
  {
   "cell_type": "code",
   "execution_count": null,
   "id": "315dd18a",
   "metadata": {},
   "outputs": [],
   "source": [
    "prediction_data = feature_engineering(prediction_data)\n",
    "prediction_data = prediction_data.reset_index()"
   ]
  },
  {
   "cell_type": "code",
   "execution_count": null,
   "id": "343ccf77",
   "metadata": {},
   "outputs": [],
   "source": [
    "predicted_data = []\n",
    "for site, site_data in prediction_data.groupby('Site'):\n",
    "    x = model.predict(site_data.drop(columns=['Site', 'Timestamp_Local']))\n",
    "    predicted_data.append(pd.DataFrame(data={'prediction' : x, 'Site' : site, 'Timestamp_Local' : site_data['Timestamp_Local']}))\n",
    "predicted_data = pd.concat(predicted_data)\n",
    "predicted_data = predicted_data.set_index(['Site', 'Timestamp_Local'])\n",
    "\n",
    "predicted_data = pd.merge(left=predicted_data, right=prediction_data.set_index(['Site', 'Timestamp_Local']), left_index=True, right_index=True)\n",
    "predicted_data = predicted_data.reset_index()\n",
    "\n",
    "predicted_data['Demand_Response_Capacity_kW'] = predicted_data['Building_Power_kW'] - predicted_data['prediction']\n",
    "# If the demand response flag is set to 0, the capacity must also be 0\n",
    "predicted_data['Demand_Response_Capacity_kW'] = np.where(predicted_data['Demand_Response_Flag'] == 0, 0, predicted_data['Demand_Response_Capacity_kW'])\n",
    "# If demand response capacity is less than 10% of the building power, set it to 0\n",
    "predicted_data['Demand_Response_Capacity_kW'] = np.where(np.abs(predicted_data['Demand_Response_Capacity_kW']) < 0.1 * predicted_data['Building_Power_kW'], 0, predicted_data['Demand_Response_Capacity_kW'])\n",
    "predicted_data['Demand_Response_Flag'] = np.where(predicted_data['Demand_Response_Flag'].isna(),\n",
    "    np.where(predicted_data['Demand_Response_Capacity_kW'] > 0, 1, np.where(predicted_data['Demand_Response_Capacity_kW'] < 0, -1, 0)),\n",
    "    predicted_data['Demand_Response_Flag']\n",
    ")\n",
    "predicted_data['Demand_Response_Flag'] = predicted_data['Demand_Response_Flag'].astype(int)\n",
    "\n",
    "predicted_data[['Site', 'Timestamp_Local', 'Demand_Response_Flag', 'Demand_Response_Capacity_kW']].to_csv(Path.cwd().parent.joinpath(\"data\", \"submission.csv\"), index=False)"
   ]
  },
  {
   "cell_type": "code",
   "execution_count": null,
   "id": "72f47538",
   "metadata": {},
   "outputs": [],
   "source": [
    "plot_predictions(predicted_data, cols=['Building_Power_kW', 'prediction', 'Demand_Response_Flag', 'Demand_Response_Capacity_kW'])"
   ]
  },
  {
   "cell_type": "code",
   "execution_count": null,
   "id": "7130953c",
   "metadata": {},
   "outputs": [],
   "source": []
  }
 ],
 "metadata": {
  "kernelspec": {
   "display_name": "flextrack-hackathon (3.11.0)",
   "language": "python",
   "name": "python3"
  },
  "language_info": {
   "codemirror_mode": {
    "name": "ipython",
    "version": 3
   },
   "file_extension": ".py",
   "mimetype": "text/x-python",
   "name": "python",
   "nbconvert_exporter": "python",
   "pygments_lexer": "ipython3",
   "version": "3.11.0"
  }
 },
 "nbformat": 4,
 "nbformat_minor": 5
}
